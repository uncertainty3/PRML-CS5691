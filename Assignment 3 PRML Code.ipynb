{
 "cells": [
  {
   "cell_type": "code",
   "execution_count": 1,
   "id": "dbcaef76",
   "metadata": {},
   "outputs": [],
   "source": [
    "import tarfile\n",
    "import pandas as pd\n",
    "import nltk\n",
    "from nltk.tokenize import word_tokenize"
   ]
  },
  {
   "cell_type": "code",
   "execution_count": 2,
   "id": "176676a6",
   "metadata": {},
   "outputs": [
    {
     "name": "stderr",
     "output_type": "stream",
     "text": [
      "[nltk_data] Downloading package punkt to\n",
      "[nltk_data]     C:\\Users\\91990\\AppData\\Roaming\\nltk_data...\n",
      "[nltk_data]   Package punkt is already up-to-date!\n"
     ]
    },
    {
     "data": {
      "text/plain": [
       "True"
      ]
     },
     "execution_count": 2,
     "metadata": {},
     "output_type": "execute_result"
    }
   ],
   "source": [
    "nltk.download('punkt')"
   ]
  },
  {
   "cell_type": "code",
   "execution_count": 3,
   "id": "4d7a04a5",
   "metadata": {},
   "outputs": [
    {
     "name": "stderr",
     "output_type": "stream",
     "text": [
      "[nltk_data] Downloading package wordnet to\n",
      "[nltk_data]     C:\\Users\\91990\\AppData\\Roaming\\nltk_data...\n",
      "[nltk_data]   Package wordnet is already up-to-date!\n"
     ]
    },
    {
     "data": {
      "text/plain": [
       "True"
      ]
     },
     "execution_count": 3,
     "metadata": {},
     "output_type": "execute_result"
    }
   ],
   "source": [
    "nltk.download('wordnet')"
   ]
  },
  {
   "cell_type": "code",
   "execution_count": 4,
   "id": "68fc6df2",
   "metadata": {},
   "outputs": [],
   "source": [
    "def extractor(fname):\n",
    "    rows = []\n",
    "    tfile = tarfile.open(fname, 'r:gz')\n",
    "    for member in tfile.getmembers():\n",
    "        if 'ham' in member.name:\n",
    "            f = tfile.extractfile(member)\n",
    "            if f is not None:\n",
    "                row = f.read()\n",
    "                rows.append({'message': row, 'class': 'ham'})\n",
    "        if 'spam' in member.name:\n",
    "            f = tfile.extractfile(member)\n",
    "            if f is not None:\n",
    "                row = f.read()\n",
    "                rows.append({'message': row, 'class': 'spam'})\n",
    "    tfile.close()\n",
    "    return pd.DataFrame(rows)"
   ]
  },
  {
   "cell_type": "code",
   "execution_count": 17,
   "id": "fcd21f9f",
   "metadata": {},
   "outputs": [],
   "source": [
    "from string import punctuation\n",
    "import re\n",
    "\n",
    "def clean_email(email):\n",
    "    email = re.sub(r'http\\S+', 'link ', email)\n",
    "    email = re.sub(\"\\d+\", \" \", email)\n",
    "    email = re.sub('[$]+', ' dollar ', email)\n",
    "    email = re.sub('Rs|[₹]+',' rupees ',email) \n",
    "    #email = re.sub('www+', ' link ', email)\n",
    "    #email = re.sub('http+', ' link ', email)\n",
    "    email = email.replace('\\n', ' ')\n",
    "    email = email.translate(str.maketrans(\"\", \"\", punctuation))\n",
    "    email = email.lower()\n",
    "    return email\n",
    "\n",
    "#df['message'] = df['message'].apply(clean_email)\n",
    "#df_test['message'] = df_test['message'].apply(clean_email)\n",
    "\n",
    "#df.iloc[5171].values"
   ]
  },
  {
   "cell_type": "code",
   "execution_count": 18,
   "id": "7492fb14",
   "metadata": {},
   "outputs": [],
   "source": [
    "from nltk.stem import WordNetLemmatizer\n",
    "def Lemmatize(email):\n",
    "    tokens = word_tokenize(email)\n",
    "    lemmatizer = WordNetLemmatizer()\n",
    "    processed = []\n",
    "    for word in tokens:\n",
    "        word = re.compile('[^a-zA-Z0-9]').sub('', word).strip()\n",
    "        if len(word)>2:\n",
    "            processed.append(lemmatizer.lemmatize(word))\n",
    "    return \" \".join(processed)"
   ]
  },
  {
   "cell_type": "code",
   "execution_count": 29,
   "id": "a43d937f",
   "metadata": {},
   "outputs": [],
   "source": [
    "def processing(path):\n",
    "    df = extractor(path)\n",
    "    df['class'] = (df['class'] == 'spam')\n",
    "    df['class'] = df['class']*1\n",
    "    df['message'] = df['message'].apply(lambda x: x.decode('latin-1'))\n",
    "    df = df.reset_index(drop=True)\n",
    "    df['message'] = df['message'].apply(clean_email)\n",
    "    df['message'] = df['message'].apply(Lemmatize)\n",
    "    l = list(df['message'])\n",
    "    y = df['class'].values\n",
    "    return l, y"
   ]
  },
  {
   "cell_type": "code",
   "execution_count": 73,
   "id": "d0665ba6",
   "metadata": {},
   "outputs": [],
   "source": [
    "l, y = processing(\"C:\\\\Users\\\\91990\\\\Downloads\\\\prml_spam\\\\enron1.tar.gz\")\n",
    "l1, y1 = processing(\"C:\\\\Users\\\\91990\\\\Downloads\\\\prml_spam\\\\enron2.tar.gz\")\n",
    "l2, y2 = processing(\"C:\\\\Users\\\\91990\\\\Downloads\\\\prml_spam\\\\enron3.tar.gz\")"
   ]
  },
  {
   "cell_type": "code",
   "execution_count": 106,
   "id": "c17686bb",
   "metadata": {},
   "outputs": [],
   "source": [
    "import numpy as np\n",
    "L = l + l1 + l2\n",
    "Y = list(y) + list(y1) + list(y2)\n",
    "Y = np.array(Y)"
   ]
  },
  {
   "cell_type": "code",
   "execution_count": 32,
   "id": "84e7bca5",
   "metadata": {},
   "outputs": [
    {
     "data": {
      "text/plain": [
       "1"
      ]
     },
     "execution_count": 32,
     "metadata": {},
     "output_type": "execute_result"
    }
   ],
   "source": [
    "Y[5171]"
   ]
  },
  {
   "cell_type": "code",
   "execution_count": 107,
   "id": "9439f182",
   "metadata": {},
   "outputs": [
    {
     "data": {
      "text/plain": [
       "<16541x83080 sparse matrix of type '<class 'numpy.float64'>'\n",
       "\twith 1691451 stored elements in Compressed Sparse Row format>"
      ]
     },
     "execution_count": 107,
     "metadata": {},
     "output_type": "execute_result"
    }
   ],
   "source": [
    "from sklearn.feature_extraction.text import CountVectorizer, TfidfTransformer\n",
    "from sklearn.feature_extraction.text import TfidfVectorizer\n",
    "san = TfidfVectorizer()\n",
    "san.fit_transform(L)"
   ]
  },
  {
   "cell_type": "code",
   "execution_count": 108,
   "id": "67587379",
   "metadata": {},
   "outputs": [
    {
     "data": {
      "text/html": [
       "<div>\n",
       "<style scoped>\n",
       "    .dataframe tbody tr th:only-of-type {\n",
       "        vertical-align: middle;\n",
       "    }\n",
       "\n",
       "    .dataframe tbody tr th {\n",
       "        vertical-align: top;\n",
       "    }\n",
       "\n",
       "    .dataframe thead th {\n",
       "        text-align: right;\n",
       "    }\n",
       "</style>\n",
       "<table border=\"1\" class=\"dataframe\">\n",
       "  <thead>\n",
       "    <tr style=\"text-align: right;\">\n",
       "      <th></th>\n",
       "      <th>idf</th>\n",
       "    </tr>\n",
       "  </thead>\n",
       "  <tbody>\n",
       "    <tr>\n",
       "      <th>subject</th>\n",
       "      <td>1.000000</td>\n",
       "    </tr>\n",
       "    <tr>\n",
       "      <th>the</th>\n",
       "      <td>1.221830</td>\n",
       "    </tr>\n",
       "    <tr>\n",
       "      <th>for</th>\n",
       "      <td>1.345887</td>\n",
       "    </tr>\n",
       "    <tr>\n",
       "      <th>and</th>\n",
       "      <td>1.377125</td>\n",
       "    </tr>\n",
       "    <tr>\n",
       "      <th>you</th>\n",
       "      <td>1.433232</td>\n",
       "    </tr>\n",
       "    <tr>\n",
       "      <th>...</th>\n",
       "      <td>...</td>\n",
       "    </tr>\n",
       "    <tr>\n",
       "      <th>magsecurities</th>\n",
       "      <td>10.020511</td>\n",
       "    </tr>\n",
       "    <tr>\n",
       "      <th>maha</th>\n",
       "      <td>10.020511</td>\n",
       "    </tr>\n",
       "    <tr>\n",
       "      <th>mahaffey</th>\n",
       "      <td>10.020511</td>\n",
       "    </tr>\n",
       "    <tr>\n",
       "      <th>mahal</th>\n",
       "      <td>10.020511</td>\n",
       "    </tr>\n",
       "    <tr>\n",
       "      <th>aa</th>\n",
       "      <td>10.020511</td>\n",
       "    </tr>\n",
       "  </tbody>\n",
       "</table>\n",
       "<p>83080 rows × 1 columns</p>\n",
       "</div>"
      ],
      "text/plain": [
       "                     idf\n",
       "subject         1.000000\n",
       "the             1.221830\n",
       "for             1.345887\n",
       "and             1.377125\n",
       "you             1.433232\n",
       "...                  ...\n",
       "magsecurities  10.020511\n",
       "maha           10.020511\n",
       "mahaffey       10.020511\n",
       "mahal          10.020511\n",
       "aa             10.020511\n",
       "\n",
       "[83080 rows x 1 columns]"
      ]
     },
     "execution_count": 108,
     "metadata": {},
     "output_type": "execute_result"
    }
   ],
   "source": [
    "df_san = pd.DataFrame(san.idf_, index = san.get_feature_names_out(),columns=[\"idf\"]) \n",
    "orderedWords = df_san.sort_values(by=['idf'])\n",
    "orderedWords"
   ]
  },
  {
   "cell_type": "code",
   "execution_count": 109,
   "id": "dff11343",
   "metadata": {},
   "outputs": [
    {
     "name": "stdout",
     "output_type": "stream",
     "text": [
      "['subject', 'the', 'for', 'and', 'you', 'this', 'have', 'with', 'from', 'that', 'are', 'will', 'your', 'please', 'not', 'enron', 'can', 'our', 'any', 'all']\n"
     ]
    }
   ],
   "source": [
    "stopwords = [orderedWords['idf'].index[i] for i in range(20)] \n",
    "print(stopwords)"
   ]
  },
  {
   "cell_type": "code",
   "execution_count": 110,
   "id": "7afb00d3",
   "metadata": {
    "scrolled": true
   },
   "outputs": [
    {
     "data": {
      "text/html": [
       "<div>\n",
       "<style scoped>\n",
       "    .dataframe tbody tr th:only-of-type {\n",
       "        vertical-align: middle;\n",
       "    }\n",
       "\n",
       "    .dataframe tbody tr th {\n",
       "        vertical-align: top;\n",
       "    }\n",
       "\n",
       "    .dataframe thead th {\n",
       "        text-align: right;\n",
       "    }\n",
       "</style>\n",
       "<table border=\"1\" class=\"dataframe\">\n",
       "  <thead>\n",
       "    <tr style=\"text-align: right;\">\n",
       "      <th></th>\n",
       "      <th>abb</th>\n",
       "      <th>ability</th>\n",
       "      <th>able</th>\n",
       "      <th>about</th>\n",
       "      <th>above</th>\n",
       "      <th>absence</th>\n",
       "      <th>absolutely</th>\n",
       "      <th>abuse</th>\n",
       "      <th>academic</th>\n",
       "      <th>accept</th>\n",
       "      <th>...</th>\n",
       "      <th>yet</th>\n",
       "      <th>yield</th>\n",
       "      <th>york</th>\n",
       "      <th>young</th>\n",
       "      <th>yours</th>\n",
       "      <th>yourself</th>\n",
       "      <th>zero</th>\n",
       "      <th>zhiyong</th>\n",
       "      <th>zimin</th>\n",
       "      <th>zone</th>\n",
       "    </tr>\n",
       "  </thead>\n",
       "  <tbody>\n",
       "    <tr>\n",
       "      <th>0</th>\n",
       "      <td>0</td>\n",
       "      <td>0</td>\n",
       "      <td>0</td>\n",
       "      <td>0</td>\n",
       "      <td>0</td>\n",
       "      <td>0</td>\n",
       "      <td>0</td>\n",
       "      <td>0</td>\n",
       "      <td>0</td>\n",
       "      <td>0</td>\n",
       "      <td>...</td>\n",
       "      <td>0</td>\n",
       "      <td>0</td>\n",
       "      <td>0</td>\n",
       "      <td>0</td>\n",
       "      <td>0</td>\n",
       "      <td>0</td>\n",
       "      <td>0</td>\n",
       "      <td>0</td>\n",
       "      <td>0</td>\n",
       "      <td>0</td>\n",
       "    </tr>\n",
       "    <tr>\n",
       "      <th>1</th>\n",
       "      <td>0</td>\n",
       "      <td>0</td>\n",
       "      <td>0</td>\n",
       "      <td>1</td>\n",
       "      <td>0</td>\n",
       "      <td>0</td>\n",
       "      <td>0</td>\n",
       "      <td>0</td>\n",
       "      <td>0</td>\n",
       "      <td>0</td>\n",
       "      <td>...</td>\n",
       "      <td>0</td>\n",
       "      <td>0</td>\n",
       "      <td>0</td>\n",
       "      <td>0</td>\n",
       "      <td>0</td>\n",
       "      <td>0</td>\n",
       "      <td>0</td>\n",
       "      <td>0</td>\n",
       "      <td>0</td>\n",
       "      <td>0</td>\n",
       "    </tr>\n",
       "    <tr>\n",
       "      <th>2</th>\n",
       "      <td>0</td>\n",
       "      <td>0</td>\n",
       "      <td>0</td>\n",
       "      <td>0</td>\n",
       "      <td>0</td>\n",
       "      <td>0</td>\n",
       "      <td>0</td>\n",
       "      <td>0</td>\n",
       "      <td>0</td>\n",
       "      <td>0</td>\n",
       "      <td>...</td>\n",
       "      <td>0</td>\n",
       "      <td>0</td>\n",
       "      <td>0</td>\n",
       "      <td>0</td>\n",
       "      <td>0</td>\n",
       "      <td>0</td>\n",
       "      <td>0</td>\n",
       "      <td>0</td>\n",
       "      <td>0</td>\n",
       "      <td>0</td>\n",
       "    </tr>\n",
       "    <tr>\n",
       "      <th>3</th>\n",
       "      <td>0</td>\n",
       "      <td>0</td>\n",
       "      <td>0</td>\n",
       "      <td>0</td>\n",
       "      <td>0</td>\n",
       "      <td>0</td>\n",
       "      <td>0</td>\n",
       "      <td>0</td>\n",
       "      <td>0</td>\n",
       "      <td>0</td>\n",
       "      <td>...</td>\n",
       "      <td>0</td>\n",
       "      <td>0</td>\n",
       "      <td>0</td>\n",
       "      <td>0</td>\n",
       "      <td>0</td>\n",
       "      <td>0</td>\n",
       "      <td>0</td>\n",
       "      <td>0</td>\n",
       "      <td>0</td>\n",
       "      <td>0</td>\n",
       "    </tr>\n",
       "    <tr>\n",
       "      <th>4</th>\n",
       "      <td>0</td>\n",
       "      <td>0</td>\n",
       "      <td>0</td>\n",
       "      <td>0</td>\n",
       "      <td>0</td>\n",
       "      <td>0</td>\n",
       "      <td>0</td>\n",
       "      <td>0</td>\n",
       "      <td>0</td>\n",
       "      <td>0</td>\n",
       "      <td>...</td>\n",
       "      <td>0</td>\n",
       "      <td>0</td>\n",
       "      <td>0</td>\n",
       "      <td>0</td>\n",
       "      <td>0</td>\n",
       "      <td>0</td>\n",
       "      <td>0</td>\n",
       "      <td>0</td>\n",
       "      <td>0</td>\n",
       "      <td>0</td>\n",
       "    </tr>\n",
       "    <tr>\n",
       "      <th>...</th>\n",
       "      <td>...</td>\n",
       "      <td>...</td>\n",
       "      <td>...</td>\n",
       "      <td>...</td>\n",
       "      <td>...</td>\n",
       "      <td>...</td>\n",
       "      <td>...</td>\n",
       "      <td>...</td>\n",
       "      <td>...</td>\n",
       "      <td>...</td>\n",
       "      <td>...</td>\n",
       "      <td>...</td>\n",
       "      <td>...</td>\n",
       "      <td>...</td>\n",
       "      <td>...</td>\n",
       "      <td>...</td>\n",
       "      <td>...</td>\n",
       "      <td>...</td>\n",
       "      <td>...</td>\n",
       "      <td>...</td>\n",
       "      <td>...</td>\n",
       "    </tr>\n",
       "    <tr>\n",
       "      <th>16536</th>\n",
       "      <td>0</td>\n",
       "      <td>0</td>\n",
       "      <td>0</td>\n",
       "      <td>0</td>\n",
       "      <td>0</td>\n",
       "      <td>0</td>\n",
       "      <td>0</td>\n",
       "      <td>0</td>\n",
       "      <td>0</td>\n",
       "      <td>0</td>\n",
       "      <td>...</td>\n",
       "      <td>0</td>\n",
       "      <td>0</td>\n",
       "      <td>0</td>\n",
       "      <td>0</td>\n",
       "      <td>0</td>\n",
       "      <td>0</td>\n",
       "      <td>0</td>\n",
       "      <td>0</td>\n",
       "      <td>0</td>\n",
       "      <td>0</td>\n",
       "    </tr>\n",
       "    <tr>\n",
       "      <th>16537</th>\n",
       "      <td>0</td>\n",
       "      <td>0</td>\n",
       "      <td>1</td>\n",
       "      <td>0</td>\n",
       "      <td>0</td>\n",
       "      <td>0</td>\n",
       "      <td>0</td>\n",
       "      <td>0</td>\n",
       "      <td>1</td>\n",
       "      <td>0</td>\n",
       "      <td>...</td>\n",
       "      <td>0</td>\n",
       "      <td>0</td>\n",
       "      <td>0</td>\n",
       "      <td>0</td>\n",
       "      <td>0</td>\n",
       "      <td>0</td>\n",
       "      <td>0</td>\n",
       "      <td>0</td>\n",
       "      <td>0</td>\n",
       "      <td>0</td>\n",
       "    </tr>\n",
       "    <tr>\n",
       "      <th>16538</th>\n",
       "      <td>0</td>\n",
       "      <td>0</td>\n",
       "      <td>0</td>\n",
       "      <td>0</td>\n",
       "      <td>0</td>\n",
       "      <td>0</td>\n",
       "      <td>0</td>\n",
       "      <td>0</td>\n",
       "      <td>0</td>\n",
       "      <td>0</td>\n",
       "      <td>...</td>\n",
       "      <td>0</td>\n",
       "      <td>0</td>\n",
       "      <td>0</td>\n",
       "      <td>0</td>\n",
       "      <td>0</td>\n",
       "      <td>0</td>\n",
       "      <td>0</td>\n",
       "      <td>0</td>\n",
       "      <td>0</td>\n",
       "      <td>0</td>\n",
       "    </tr>\n",
       "    <tr>\n",
       "      <th>16539</th>\n",
       "      <td>0</td>\n",
       "      <td>0</td>\n",
       "      <td>0</td>\n",
       "      <td>0</td>\n",
       "      <td>0</td>\n",
       "      <td>0</td>\n",
       "      <td>0</td>\n",
       "      <td>0</td>\n",
       "      <td>0</td>\n",
       "      <td>0</td>\n",
       "      <td>...</td>\n",
       "      <td>0</td>\n",
       "      <td>0</td>\n",
       "      <td>0</td>\n",
       "      <td>0</td>\n",
       "      <td>0</td>\n",
       "      <td>0</td>\n",
       "      <td>0</td>\n",
       "      <td>0</td>\n",
       "      <td>0</td>\n",
       "      <td>0</td>\n",
       "    </tr>\n",
       "    <tr>\n",
       "      <th>16540</th>\n",
       "      <td>0</td>\n",
       "      <td>0</td>\n",
       "      <td>0</td>\n",
       "      <td>0</td>\n",
       "      <td>0</td>\n",
       "      <td>0</td>\n",
       "      <td>0</td>\n",
       "      <td>0</td>\n",
       "      <td>0</td>\n",
       "      <td>0</td>\n",
       "      <td>...</td>\n",
       "      <td>0</td>\n",
       "      <td>0</td>\n",
       "      <td>0</td>\n",
       "      <td>0</td>\n",
       "      <td>0</td>\n",
       "      <td>0</td>\n",
       "      <td>0</td>\n",
       "      <td>0</td>\n",
       "      <td>0</td>\n",
       "      <td>0</td>\n",
       "    </tr>\n",
       "  </tbody>\n",
       "</table>\n",
       "<p>16541 rows × 4000 columns</p>\n",
       "</div>"
      ],
      "text/plain": [
       "       abb  ability  able  about  above  absence  absolutely  abuse  academic  \\\n",
       "0        0        0     0      0      0        0           0      0         0   \n",
       "1        0        0     0      1      0        0           0      0         0   \n",
       "2        0        0     0      0      0        0           0      0         0   \n",
       "3        0        0     0      0      0        0           0      0         0   \n",
       "4        0        0     0      0      0        0           0      0         0   \n",
       "...    ...      ...   ...    ...    ...      ...         ...    ...       ...   \n",
       "16536    0        0     0      0      0        0           0      0         0   \n",
       "16537    0        0     1      0      0        0           0      0         1   \n",
       "16538    0        0     0      0      0        0           0      0         0   \n",
       "16539    0        0     0      0      0        0           0      0         0   \n",
       "16540    0        0     0      0      0        0           0      0         0   \n",
       "\n",
       "       accept  ...  yet  yield  york  young  yours  yourself  zero  zhiyong  \\\n",
       "0           0  ...    0      0     0      0      0         0     0        0   \n",
       "1           0  ...    0      0     0      0      0         0     0        0   \n",
       "2           0  ...    0      0     0      0      0         0     0        0   \n",
       "3           0  ...    0      0     0      0      0         0     0        0   \n",
       "4           0  ...    0      0     0      0      0         0     0        0   \n",
       "...       ...  ...  ...    ...   ...    ...    ...       ...   ...      ...   \n",
       "16536       0  ...    0      0     0      0      0         0     0        0   \n",
       "16537       0  ...    0      0     0      0      0         0     0        0   \n",
       "16538       0  ...    0      0     0      0      0         0     0        0   \n",
       "16539       0  ...    0      0     0      0      0         0     0        0   \n",
       "16540       0  ...    0      0     0      0      0         0     0        0   \n",
       "\n",
       "       zimin  zone  \n",
       "0          0     0  \n",
       "1          0     0  \n",
       "2          0     0  \n",
       "3          0     0  \n",
       "4          0     0  \n",
       "...      ...   ...  \n",
       "16536      0     0  \n",
       "16537      0     0  \n",
       "16538      0     0  \n",
       "16539      0     0  \n",
       "16540      0     0  \n",
       "\n",
       "[16541 rows x 4000 columns]"
      ]
     },
     "execution_count": 110,
     "metadata": {},
     "output_type": "execute_result"
    }
   ],
   "source": [
    "san_3 = CountVectorizer(stop_words = stopwords, max_features = 4000)\n",
    "v_san = san_3.fit_transform(L)\n",
    "#print(v_san[1])\n",
    "#san_3.get_feature_names_out()\n",
    "count_array = v_san.toarray()\n",
    "df = pd.DataFrame(data=count_array,columns = san_3.get_feature_names_out())\n",
    "df"
   ]
  },
  {
   "cell_type": "code",
   "execution_count": 111,
   "id": "194e56d7",
   "metadata": {},
   "outputs": [],
   "source": [
    "import numpy as np\n",
    "To_remove = [] \n",
    "for i in range(count_array.shape[0]):\n",
    "    if np.sum(count_array[i,:])==0:\n",
    "        To_remove.append(i)\n",
    "X_real1 = np.delete(count_array, To_remove, axis=0)\n",
    "y_real1 = np.delete(Y,To_remove)"
   ]
  },
  {
   "cell_type": "code",
   "execution_count": 112,
   "id": "787a42fd",
   "metadata": {},
   "outputs": [
    {
     "data": {
      "text/plain": [
       "(16501,)"
      ]
     },
     "execution_count": 112,
     "metadata": {},
     "output_type": "execute_result"
    }
   ],
   "source": [
    "y_real1.shape"
   ]
  },
  {
   "cell_type": "code",
   "execution_count": 113,
   "id": "f97c62a3",
   "metadata": {},
   "outputs": [
    {
     "name": "stdout",
     "output_type": "stream",
     "text": [
      "Accuracy: 0.9642532565889125\n"
     ]
    }
   ],
   "source": [
    "from sklearn.model_selection import train_test_split\n",
    "X_train, X_test, y_train, y_test = train_test_split(X_real1, y_real1, test_size=0.2, shuffle=True, random_state=None, stratify=y_real1)\n",
    "from sklearn.naive_bayes import MultinomialNB\n",
    "clf = MultinomialNB()\n",
    "clf.fit(X_train, y_train)\n",
    "pred = clf.predict(X_test)\n",
    "print(\"Accuracy: {}\".format(clf.score(X_test, y_test)))"
   ]
  },
  {
   "cell_type": "code",
   "execution_count": 115,
   "id": "39403d2f",
   "metadata": {},
   "outputs": [
    {
     "data": {
      "text/plain": [
       "(13200, 4000)"
      ]
     },
     "execution_count": 115,
     "metadata": {},
     "output_type": "execute_result"
    }
   ],
   "source": [
    "X_train.shape"
   ]
  },
  {
   "cell_type": "code",
   "execution_count": 98,
   "id": "962eaef7",
   "metadata": {},
   "outputs": [],
   "source": [
    "def NB(X_train, y_train, X_test):\n",
    "    spam_ind = np.where(y_train == 1)[0]\n",
    "    ham_ind = np.where(y_train == 0)[0]\n",
    "    tot = len(y_train)\n",
    "    spam = len(spam_ind)\n",
    "    ham = len(ham_ind)\n",
    "    p_spam = spam/tot\n",
    "    p_ham = ham/tot\n",
    "\n",
    "    spam_mails = X_train[spam_ind]\n",
    "    r = np.ones(shape = (1, X_train.shape[1]))\n",
    "    spam_mails = np.append(spam_mails, r , axis=0)\n",
    "    ham_mails = X_train[ham_ind]\n",
    "    ham_mails = np.append(ham_mails, r , axis=0)\n",
    "    spam_words = np.zeros(X_train.shape[1])\n",
    "    ham_words = np.zeros(X_train.shape[1])\n",
    "\n",
    "    for mail in spam_mails:\n",
    "        spam_words = spam_words + mail\n",
    "    for mail in ham_mails:\n",
    "        ham_words = ham_words + mail\n",
    "\n",
    "    tot_spam_words = np.sum(spam_words)\n",
    "    tot_ham_words = np.sum(ham_words)\n",
    "\n",
    "    p_spam_word = []\n",
    "    p_ham_word = []\n",
    "\n",
    "    for i in range(spam_mails.shape[1]):\n",
    "        s = 0\n",
    "        for j in range(spam_mails.shape[0]):\n",
    "            s = s + spam_mails[j][i]\n",
    "        s = s/tot_spam_words\n",
    "        p_spam_word.append(s)\n",
    "\n",
    "    for i in range(ham_mails.shape[1]):\n",
    "        s = 0\n",
    "        for j in range(ham_mails.shape[0]):\n",
    "            s = s + ham_mails[j][i]\n",
    "        s = s/tot_ham_words\n",
    "        p_ham_word.append(s)\n",
    "\n",
    "    y_pred = []\n",
    "\n",
    "    for i in range(X_test.shape[0]):\n",
    "        p_test_spam = 0\n",
    "        p_test_ham = 0\n",
    "        for j in range(X_test.shape[1]):\n",
    "            if(X_test[i,j]!=0):\n",
    "                #if(p_spam_word[j]!=0):\n",
    "                p_test_spam += np.log(p_spam_word[j])\n",
    "\n",
    "                #if(p_ham_word[j]!=0):\n",
    "                p_test_ham += np.log(p_ham_word[j])\n",
    "            #else:\n",
    "                #p_test_spam += np.log((1-p_spam_word[j])*p_spam)\n",
    "                #p_test_ham += np.log((1-p_ham_word[j])*p_ham)\n",
    "        p_test_spam += np.log(p_spam)\n",
    "        p_test_ham += np.log(p_ham)\n",
    "        if(p_test_ham > p_test_spam):\n",
    "            y_pred.append(0)\n",
    "        else:\n",
    "            y_pred.append(1)\n",
    "\n",
    "    return y_pred\n",
    "    #len(y_pred)"
   ]
  },
  {
   "cell_type": "code",
   "execution_count": 116,
   "id": "578abfa7",
   "metadata": {},
   "outputs": [
    {
     "data": {
      "text/plain": [
       "3301"
      ]
     },
     "execution_count": 116,
     "metadata": {},
     "output_type": "execute_result"
    }
   ],
   "source": [
    "pred_NB = NB(X_train, y_train, X_test)\n",
    "len(pred_NB)"
   ]
  },
  {
   "cell_type": "code",
   "execution_count": 117,
   "id": "942e75ae",
   "metadata": {},
   "outputs": [
    {
     "data": {
      "text/plain": [
       "3301"
      ]
     },
     "execution_count": 117,
     "metadata": {},
     "output_type": "execute_result"
    }
   ],
   "source": [
    "len(y_test)"
   ]
  },
  {
   "cell_type": "code",
   "execution_count": 118,
   "id": "69c14f4e",
   "metadata": {},
   "outputs": [],
   "source": [
    "def accuracy(orig, pred):\n",
    "    return (1 - (np.sum(abs(orig-pred)))/len(pred))*100"
   ]
  },
  {
   "cell_type": "code",
   "execution_count": 119,
   "id": "cc05d287",
   "metadata": {},
   "outputs": [
    {
     "data": {
      "text/plain": [
       "96.75855801272341"
      ]
     },
     "execution_count": 119,
     "metadata": {},
     "output_type": "execute_result"
    }
   ],
   "source": [
    "acc_NB = accuracy(y_test, pred_NB)\n",
    "acc_NB"
   ]
  },
  {
   "cell_type": "code",
   "execution_count": 120,
   "id": "deb00022",
   "metadata": {},
   "outputs": [
    {
     "name": "stdout",
     "output_type": "stream",
     "text": [
      "Accuracy: 0.9124507724931838\n"
     ]
    }
   ],
   "source": [
    "from sklearn.naive_bayes import BernoulliNB\n",
    "clf = BernoulliNB()\n",
    "clf.fit(X_train, y_train)\n",
    "pred = clf.predict(X_test)\n",
    "print(\"Accuracy: {}\".format(clf.score(X_test, y_test)))"
   ]
  },
  {
   "cell_type": "code",
   "execution_count": 121,
   "id": "ce1eae89",
   "metadata": {},
   "outputs": [],
   "source": [
    "l_test, y_true = processing(\"C:\\\\Users\\\\91990\\\\Downloads\\\\prml_spam\\\\enron4.tar.gz\")"
   ]
  },
  {
   "cell_type": "code",
   "execution_count": 122,
   "id": "22463e7f",
   "metadata": {},
   "outputs": [
    {
     "data": {
      "text/plain": [
       "92.25"
      ]
     },
     "execution_count": 122,
     "metadata": {},
     "output_type": "execute_result"
    }
   ],
   "source": [
    "#g = [\"click this link to join the group chat\"]\n",
    "v = san_3.transform(l_test)\n",
    "v = v.toarray()\n",
    "p = NB(X_real1, y_real1, v)\n",
    "a = accuracy(y_true, p)\n",
    "a"
   ]
  },
  {
   "cell_type": "code",
   "execution_count": 62,
   "id": "43564c9a",
   "metadata": {},
   "outputs": [
    {
     "data": {
      "text/plain": [
       "(6000, 4000)"
      ]
     },
     "execution_count": 62,
     "metadata": {},
     "output_type": "execute_result"
    }
   ],
   "source": [
    "v.shape"
   ]
  },
  {
   "cell_type": "code",
   "execution_count": 63,
   "id": "e6c91fea",
   "metadata": {},
   "outputs": [
    {
     "data": {
      "text/plain": [
       "92.21666666666667"
      ]
     },
     "execution_count": 63,
     "metadata": {},
     "output_type": "execute_result"
    }
   ],
   "source": [
    "clf = MultinomialNB()\n",
    "clf.fit(X_real1, y_real1)\n",
    "pred = clf.predict(v)\n",
    "pr = accuracy(y_true, pred)\n",
    "pr"
   ]
  },
  {
   "cell_type": "code",
   "execution_count": 123,
   "id": "8b1ded41",
   "metadata": {},
   "outputs": [
    {
     "data": {
      "text/plain": [
       "92.51666666666667"
      ]
     },
     "execution_count": 123,
     "metadata": {},
     "output_type": "execute_result"
    }
   ],
   "source": [
    "clf = BernoulliNB()\n",
    "clf.fit(X_real1, y_real1)\n",
    "pred = clf.predict(v)\n",
    "pr = accuracy(y_true, pred)\n",
    "pr"
   ]
  },
  {
   "cell_type": "code",
   "execution_count": 76,
   "id": "56ae8db4",
   "metadata": {},
   "outputs": [
    {
     "name": "stdout",
     "output_type": "stream",
     "text": [
      "Model fitting\n",
      "0\n",
      "Model fitting\n",
      "1\n",
      "Model fitting\n",
      "2\n",
      "Model fitting\n",
      "3\n",
      "Model fitting\n",
      "4\n",
      "Model fitting\n",
      "5\n",
      "Model fitting\n",
      "6\n",
      "Model fitting\n",
      "7\n",
      "Model fitting\n",
      "8\n",
      "Model fitting\n",
      "9\n"
     ]
    },
    {
     "data": {
      "text/plain": [
       "[<matplotlib.lines.Line2D at 0x21580552100>]"
      ]
     },
     "execution_count": 76,
     "metadata": {},
     "output_type": "execute_result"
    },
    {
     "data": {
      "image/png": "[encoded data removed]",
      "text/plain": [
       "<Figure size 432x288 with 1 Axes>"
      ]
     },
     "metadata": {
      "needs_background": "light"
     },
     "output_type": "display_data"
    }
   ],
   "source": [
    "from sklearn import svm\n",
    "import matplotlib.pyplot as plt\n",
    "a = []\n",
    "for i in range(10):\n",
    "    modelSVM=svm.SVC(C=i+1)\n",
    "    print(\"Model fitting\")\n",
    "    modelSVM.fit(X_real1, y_real1)\n",
    "\n",
    "    #with open('SVM.pkl', 'wb') as f:\n",
    "        #pickle.dump(modelSVM, f)\n",
    "\n",
    "    y_pred_svm = modelSVM.predict(v)\n",
    "    a.append(accuracy(y_true, y_pred_svm))\n",
    "    print(i)\n",
    "plt.plot(a)"
   ]
  },
  {
   "cell_type": "code",
   "execution_count": 83,
   "id": "128807c5",
   "metadata": {},
   "outputs": [
    {
     "name": "stdout",
     "output_type": "stream",
     "text": [
      "95.23333333333333\n"
     ]
    },
    {
     "data": {
      "image/png": "[encoded data removed]",
      "text/plain": [
       "<Figure size 432x288 with 1 Axes>"
      ]
     },
     "metadata": {
      "needs_background": "light"
     },
     "output_type": "display_data"
    }
   ],
   "source": [
    "ax = [1, 2, 3, 4, 5, 6 ,7, 8, 9, 10]\n",
    "plt.plot(ax, a)\n",
    "plt.xlabel('C')\n",
    "plt.ylabel('Accuracy(%)')\n",
    "plt.title('Accuracy vs C for Train Data')\n",
    "print(a[8])"
   ]
  },
  {
   "cell_type": "code",
   "execution_count": 141,
   "id": "17954a74",
   "metadata": {},
   "outputs": [],
   "source": [
    "from sklearn.tree import DecisionTreeClassifier\n",
    "def bagging(X_train, y_train, X_test):\n",
    "    n = 200\n",
    "    models = []\n",
    "    for i in range(n):\n",
    "        indexs=np.random.choice(X_train.shape[0], size = 500)# sample with replacement\n",
    "        Xi=X_train[indexs, :]# Chossing random samples\n",
    "        Yi=y_train[indexs]\n",
    "        # Training for each sample bunch by Decision Tree Classifier\n",
    "        model=DecisionTreeClassifier(max_depth = 1000)\n",
    "        model.fit(Xi,Yi)\n",
    "        models.append(model)\n",
    "        #print(i)\n",
    "    pred=np.zeros((X_test.shape[0]))\n",
    "    # predicting with each stored models\n",
    "    for model in models:\n",
    "        pred=pred+model.predict(X_test)\n",
    "    return np.round(pred/n)\n"
   ]
  },
  {
   "cell_type": "code",
   "execution_count": 66,
   "id": "deff4fbc",
   "metadata": {},
   "outputs": [
    {
     "name": "stdout",
     "output_type": "stream",
     "text": [
      "0\n",
      "1\n",
      "2\n",
      "3\n",
      "4\n",
      "5\n",
      "6\n",
      "7\n",
      "8\n",
      "9\n",
      "10\n",
      "11\n",
      "12\n",
      "13\n",
      "14\n",
      "15\n",
      "16\n",
      "17\n",
      "18\n",
      "19\n",
      "20\n",
      "21\n",
      "22\n",
      "23\n",
      "24\n",
      "25\n",
      "26\n",
      "27\n",
      "28\n",
      "29\n",
      "30\n",
      "31\n",
      "32\n",
      "33\n",
      "34\n",
      "35\n",
      "36\n",
      "37\n",
      "38\n",
      "39\n",
      "40\n",
      "41\n",
      "42\n",
      "43\n",
      "44\n",
      "45\n",
      "46\n",
      "47\n",
      "48\n",
      "49\n",
      "50\n",
      "51\n",
      "52\n",
      "53\n",
      "54\n",
      "55\n",
      "56\n",
      "57\n",
      "58\n",
      "59\n",
      "60\n",
      "61\n",
      "62\n",
      "63\n",
      "64\n",
      "65\n",
      "66\n",
      "67\n",
      "68\n",
      "69\n",
      "70\n",
      "71\n",
      "72\n",
      "73\n",
      "74\n",
      "75\n",
      "76\n",
      "77\n",
      "78\n",
      "79\n",
      "80\n",
      "81\n",
      "82\n",
      "83\n",
      "84\n",
      "85\n",
      "86\n",
      "87\n",
      "88\n",
      "89\n",
      "90\n",
      "91\n",
      "92\n",
      "93\n",
      "94\n",
      "95\n",
      "96\n",
      "97\n",
      "98\n",
      "99\n",
      "100\n",
      "101\n",
      "102\n",
      "103\n",
      "104\n",
      "105\n",
      "106\n",
      "107\n",
      "108\n",
      "109\n",
      "110\n",
      "111\n",
      "112\n",
      "113\n",
      "114\n",
      "115\n",
      "116\n",
      "117\n",
      "118\n",
      "119\n",
      "120\n",
      "121\n",
      "122\n",
      "123\n",
      "124\n",
      "125\n",
      "126\n",
      "127\n",
      "128\n",
      "129\n",
      "130\n",
      "131\n",
      "132\n",
      "133\n",
      "134\n",
      "135\n",
      "136\n",
      "137\n",
      "138\n",
      "139\n",
      "140\n",
      "141\n",
      "142\n",
      "143\n",
      "144\n",
      "145\n",
      "146\n",
      "147\n",
      "148\n",
      "149\n",
      "150\n",
      "151\n",
      "152\n",
      "153\n",
      "154\n",
      "155\n",
      "156\n",
      "157\n",
      "158\n",
      "159\n",
      "160\n",
      "161\n",
      "162\n",
      "163\n",
      "164\n",
      "165\n",
      "166\n",
      "167\n",
      "168\n",
      "169\n",
      "170\n",
      "171\n",
      "172\n",
      "173\n",
      "174\n",
      "175\n",
      "176\n",
      "177\n",
      "178\n",
      "179\n",
      "180\n",
      "181\n",
      "182\n",
      "183\n",
      "184\n",
      "185\n",
      "186\n",
      "187\n",
      "188\n",
      "189\n",
      "190\n",
      "191\n",
      "192\n",
      "193\n",
      "194\n",
      "195\n",
      "196\n",
      "197\n",
      "198\n",
      "199\n"
     ]
    }
   ],
   "source": [
    "p = bagging(X_train, y_train, X_test)"
   ]
  },
  {
   "cell_type": "code",
   "execution_count": 67,
   "id": "2ba79ff2",
   "metadata": {},
   "outputs": [
    {
     "data": {
      "text/plain": [
       "91.97212965767949"
      ]
     },
     "execution_count": 67,
     "metadata": {},
     "output_type": "execute_result"
    }
   ],
   "source": [
    "a = accuracy(y_test, p)\n",
    "a"
   ]
  },
  {
   "cell_type": "code",
   "execution_count": 68,
   "id": "8b716888",
   "metadata": {},
   "outputs": [
    {
     "name": "stdout",
     "output_type": "stream",
     "text": [
      "0\n",
      "1\n",
      "2\n",
      "3\n",
      "4\n",
      "5\n",
      "6\n",
      "7\n",
      "8\n",
      "9\n",
      "10\n",
      "11\n",
      "12\n",
      "13\n",
      "14\n",
      "15\n",
      "16\n",
      "17\n",
      "18\n",
      "19\n",
      "20\n",
      "21\n",
      "22\n",
      "23\n",
      "24\n",
      "25\n",
      "26\n",
      "27\n",
      "28\n",
      "29\n",
      "30\n",
      "31\n",
      "32\n",
      "33\n",
      "34\n",
      "35\n",
      "36\n",
      "37\n",
      "38\n",
      "39\n",
      "40\n",
      "41\n",
      "42\n",
      "43\n",
      "44\n",
      "45\n",
      "46\n",
      "47\n",
      "48\n",
      "49\n",
      "50\n",
      "51\n",
      "52\n",
      "53\n",
      "54\n",
      "55\n",
      "56\n",
      "57\n",
      "58\n",
      "59\n",
      "60\n",
      "61\n",
      "62\n",
      "63\n",
      "64\n",
      "65\n",
      "66\n",
      "67\n",
      "68\n",
      "69\n",
      "70\n",
      "71\n",
      "72\n",
      "73\n",
      "74\n",
      "75\n",
      "76\n",
      "77\n",
      "78\n",
      "79\n",
      "80\n",
      "81\n",
      "82\n",
      "83\n",
      "84\n",
      "85\n",
      "86\n",
      "87\n",
      "88\n",
      "89\n",
      "90\n",
      "91\n",
      "92\n",
      "93\n",
      "94\n",
      "95\n",
      "96\n",
      "97\n",
      "98\n",
      "99\n",
      "100\n",
      "101\n",
      "102\n",
      "103\n",
      "104\n",
      "105\n",
      "106\n",
      "107\n",
      "108\n",
      "109\n",
      "110\n",
      "111\n",
      "112\n",
      "113\n",
      "114\n",
      "115\n",
      "116\n",
      "117\n",
      "118\n",
      "119\n",
      "120\n",
      "121\n",
      "122\n",
      "123\n",
      "124\n",
      "125\n",
      "126\n",
      "127\n",
      "128\n",
      "129\n",
      "130\n",
      "131\n",
      "132\n",
      "133\n",
      "134\n",
      "135\n",
      "136\n",
      "137\n",
      "138\n",
      "139\n",
      "140\n",
      "141\n",
      "142\n",
      "143\n",
      "144\n",
      "145\n",
      "146\n",
      "147\n",
      "148\n",
      "149\n",
      "150\n",
      "151\n",
      "152\n",
      "153\n",
      "154\n",
      "155\n",
      "156\n",
      "157\n",
      "158\n",
      "159\n",
      "160\n",
      "161\n",
      "162\n",
      "163\n",
      "164\n",
      "165\n",
      "166\n",
      "167\n",
      "168\n",
      "169\n",
      "170\n",
      "171\n",
      "172\n",
      "173\n",
      "174\n",
      "175\n",
      "176\n",
      "177\n",
      "178\n",
      "179\n",
      "180\n",
      "181\n",
      "182\n",
      "183\n",
      "184\n",
      "185\n",
      "186\n",
      "187\n",
      "188\n",
      "189\n",
      "190\n",
      "191\n",
      "192\n",
      "193\n",
      "194\n",
      "195\n",
      "196\n",
      "197\n",
      "198\n",
      "199\n",
      "79.76666666666667\n"
     ]
    }
   ],
   "source": [
    "preds = bagging(X_real1, y_real1, v)\n",
    "print(accuracy(y_true, preds))"
   ]
  },
  {
   "cell_type": "code",
   "execution_count": 137,
   "id": "2813b551",
   "metadata": {},
   "outputs": [],
   "source": [
    "#import os\n",
    "#import glob\n",
    "#cd = os.getcwd()\n",
    "#test = os.path.join(cd, 'test')\n",
    "#q = glob.glob(test + \"/*.txt\")\n",
    "#mails = []\n",
    "#for txt in q:\n",
    " #   f = open(txt, 'r')\n",
    "  #  mail = f.read()\n",
    "   # mails.append(mail)\n",
    "#d = pd.DataFrame(mails, columns = ['message'])\n",
    "#d['message'] = d['message'].apply(lambda x: x.decode('latin-1'))\n",
    "#d = d.reset_index(drop=True)\n",
    "#d['message'] = d['message'].apply(clean_email)\n",
    "#d['message'] = d['message'].apply(Lemmatize)\n",
    "#l = list(d['message'])\n",
    "#tr = san_3.transform(l)\n",
    "#tr = tr.toarray()\n",
    "#p = NB(X_real1, y_real1, tr)"
   ]
  },
  {
   "cell_type": "code",
   "execution_count": 146,
   "id": "d703af6a",
   "metadata": {},
   "outputs": [],
   "source": [
    "def fin(model):\n",
    "    cd = os.getcwd()\n",
    "    test = os.path.join(cd, 'test')\n",
    "    q = glob.glob(test + \"/*.txt\")\n",
    "    mails = []\n",
    "    for txt in q:\n",
    "        f = open(txt, 'r')\n",
    "        mail = f.read()\n",
    "        mails.append(mail)\n",
    "    d = pd.DataFrame(mails, columns = ['message'])\n",
    "    #d['message'] = d['message'].apply(lambda x: x.decode('latin-1'))\n",
    "    d = d.reset_index(drop=True)\n",
    "    d['message'] = d['message'].apply(clean_email)\n",
    "    d['message'] = d['message'].apply(Lemmatize)\n",
    "    l = list(d['message'])\n",
    "    tr = san_3.transform(l)\n",
    "    tr = tr.toarray()\n",
    "    if model == 'Naive Bayes':\n",
    "        return NB(X_real1, y_real1, tr)\n",
    "    if model == 'Bagging':\n",
    "        return bagging(X_real1, y_real1, tr)\n",
    "    if model == 'SVM':\n",
    "        modelSVM=svm.SVC(C=9)\n",
    "        modelSVM.fit(X_real1, y_real1)\n",
    "        y_pred_svm = modelSVM.predict(tr)\n",
    "        return y_pred_svm"
   ]
  },
  {
   "cell_type": "code",
   "execution_count": 149,
   "id": "225ac300",
   "metadata": {},
   "outputs": [
    {
     "data": {
      "text/plain": [
       "array([1, 1])"
      ]
     },
     "execution_count": 149,
     "metadata": {},
     "output_type": "execute_result"
    }
   ],
   "source": [
    "fin(\"SVM\")"
   ]
  }
 ],
 "metadata": {
  "kernelspec": {
   "display_name": "Python 3 (ipykernel)",
   "language": "python",
   "name": "python3"
  },
  "language_info": {
   "codemirror_mode": {
    "name": "ipython",
    "version": 3
   },
   "file_extension": ".py",
   "mimetype": "text/x-python",
   "name": "python",
   "nbconvert_exporter": "python",
   "pygments_lexer": "ipython3",
   "version": "3.9.6"
  }
 },
 "nbformat": 4,
 "nbformat_minor": 5
}
